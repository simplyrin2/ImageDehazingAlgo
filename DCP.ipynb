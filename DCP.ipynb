{
 "cells": [
  {
   "cell_type": "markdown",
   "metadata": {},
   "source": [
    "## Module Imports"
   ]
  },
  {
   "cell_type": "code",
   "execution_count": 1,
   "metadata": {},
   "outputs": [],
   "source": [
    "import numpy as np \n",
    "import pandas as pd \n",
    "from PIL import Image\n",
    "import matplotlib.pyplot as plt\n",
    "import cv2\n",
    "from skimage.metrics import structural_similarity as ssim\n",
    "from skimage.metrics import peak_signal_noise_ratio as psnr\n",
    "import os\n"
   ]
  },
  {
   "cell_type": "markdown",
   "metadata": {},
   "source": [
    "## Dark Channel"
   ]
  },
  {
   "cell_type": "code",
   "execution_count": 2,
   "metadata": {},
   "outputs": [],
   "source": [
    "def dark_channel(img,ks):\n",
    "    J=np.min(img, axis=2)\n",
    "    kernel = cv2.getStructuringElement(cv2.MORPH_RECT,(ks,ks))\n",
    "    dark = cv2.erode(J,kernel)\n",
    "    return dark"
   ]
  },
  {
   "cell_type": "markdown",
   "metadata": {},
   "source": [
    "## Estimating the Transmission"
   ]
  },
  {
   "cell_type": "code",
   "execution_count": 3,
   "metadata": {},
   "outputs": [],
   "source": [
    "# 2. Estimate Atmospheric Light\n",
    "def estimate_atmospheric_light(img, dark_channel):\n",
    "    flat_img = img.reshape(-1, 3)\n",
    "    flat_dark = dark_channel.ravel()\n",
    "    num_pixels = max(int(0.001 * len(flat_dark)), 1)  # 0.1% of total pixels\n",
    "    top_indices = flat_dark.argsort()[-num_pixels:]\n",
    "    atmospheric_light = np.mean(flat_img[top_indices], axis=0)\n",
    "    return atmospheric_light"
   ]
  },
  {
   "cell_type": "code",
   "execution_count": 4,
   "metadata": {},
   "outputs": [],
   "source": [
    "def estimate_transmission(img, atmospheric_light, omega=0.95, patch_size=15):\n",
    "    norm_img = img / atmospheric_light\n",
    "    dark_channel_trans = dark_channel(norm_img, patch_size)\n",
    "    transmission = 1 - omega * dark_channel_trans\n",
    "    return transmission"
   ]
  },
  {
   "cell_type": "code",
   "execution_count": 5,
   "metadata": {},
   "outputs": [],
   "source": [
    "def refine_transmission(img, transmission, radius=60, eps=1e-3):\n",
    "    gray_img = cv2.cvtColor(img, cv2.COLOR_BGR2GRAY) / 255.0\n",
    "    refined_transmission = cv2.ximgproc.guidedFilter(guide=gray_img, src=transmission, radius=radius, eps=eps)\n",
    "    return refined_transmission"
   ]
  },
  {
   "cell_type": "code",
   "execution_count": 6,
   "metadata": {},
   "outputs": [],
   "source": [
    "def recover_scene_radiance(img, transmission, atmospheric_light, t0=0.1):\n",
    "    transmission = np.maximum(transmission, t0)\n",
    "    radiance = (img - atmospheric_light) / transmission[:, :, None] + atmospheric_light\n",
    "    return np.clip(radiance, 0, 1)"
   ]
  },
  {
   "cell_type": "markdown",
   "metadata": {},
   "source": [
    "## Dehazing"
   ]
  },
  {
   "cell_type": "code",
   "execution_count": 7,
   "metadata": {},
   "outputs": [],
   "source": [
    "def dehaze_image(img_path):\n",
    "    img = Image.open(img_path).convert(\"RGB\")\n",
    "    img = np.array(img).astype(np.float32) / 255.0\n",
    "    dark_channel_img = dark_channel(img,15)\n",
    "    atmospheric_light = estimate_atmospheric_light(img, dark_channel_img)\n",
    "    transmission = estimate_transmission(img, atmospheric_light)\n",
    "    refined_transmission = refine_transmission(img, transmission)\n",
    "    dehazed_img = recover_scene_radiance(img, refined_transmission, atmospheric_light)\n",
    "    return (dehazed_img * 255).astype(np.uint8)\n"
   ]
  },
  {
   "cell_type": "markdown",
   "metadata": {},
   "source": [
    "## Metrics Calculation"
   ]
  },
  {
   "cell_type": "code",
   "execution_count": 8,
   "metadata": {},
   "outputs": [],
   "source": [
    "def calculate_ssim(ground_img,output_img):    \n",
    "    ssim_value, ssim_map = ssim(ground_img, output_img, full=True,data_range=255)\n",
    "    return ssim_value\n",
    "\n",
    "def calculate_psnr(ground_img,output_img):\n",
    "    psnr_value = psnr(ground_img, output_img, data_range=255)\n",
    "    return psnr_value\n"
   ]
  },
  {
   "cell_type": "markdown",
   "metadata": {},
   "source": [
    "## Model Output"
   ]
  },
  {
   "cell_type": "code",
   "execution_count": 21,
   "metadata": {},
   "outputs": [],
   "source": [
    "def function_dehaze(hazy_images,clear_images,location):\n",
    "    psnr_tot=0\n",
    "    ssim_tot=0\n",
    "    for hazy_path, clear_path in zip(hazy_images, clear_images):\n",
    "    \n",
    "        hazy_image = Image.open(hazy_path).convert(\"RGB\")\n",
    "        hazy_image=np.array(hazy_image).astype(np.float32) / 255.0\n",
    "        clear_image = Image.open(clear_path).convert(\"RGB\")\n",
    "        clear_image=np.array(clear_image).astype(np.float32) / 255.0\n",
    "    # print(hazy_path)\n",
    "    \n",
    "        dehazed_image=dehaze_image(hazy_path)\n",
    "        filename = os.path.basename(hazy_path)\n",
    "    # print(filename)\n",
    "\n",
    "        psn=calculate_psnr(clear_image,dehazed_image)\n",
    "        # print(psn)\n",
    "        psnr_tot+=psn\n",
    "\n",
    "        ssm=calculate_ssim(clear_image,dehazed_image)\n",
    "        ssim_tot+=ssm\n",
    "    \n",
    "        fig, axes = plt.subplots(1, 3, figsize=(12, 4))\n",
    "\n",
    "        # Clear image\n",
    "        axes[0].imshow(clear_image)\n",
    "        axes[0].set_title(\"Clear Image\")\n",
    "        axes[0].axis(\"off\")\n",
    "\n",
    "        # Hazy image\n",
    "        axes[1].imshow(hazy_image)\n",
    "        axes[1].set_title(\"Hazy Image\")\n",
    "        axes[1].axis(\"off\")\n",
    "\n",
    "        # Dehazed image\n",
    "        axes[2].imshow(dehazed_image)\n",
    "        axes[2].set_title(\"Dehazed Image\")\n",
    "        axes[2].axis(\"off\")\n",
    "\n",
    "        output_filename = f'{location}/{os.path.splitext(filename)[0]}.png'\n",
    "        plt.tight_layout()\n",
    "        plt.savefig(f'{output_filename}')\n",
    "        plt.close(fig)\n",
    "    return psnr_tot,ssim_tot"
   ]
  },
  {
   "cell_type": "markdown",
   "metadata": {},
   "source": [
    "## NH-Haze datasets"
   ]
  },
  {
   "cell_type": "code",
   "execution_count": 12,
   "metadata": {},
   "outputs": [],
   "source": [
    "nhaze = \"../Data/NH-HAZE\"  "
   ]
  },
  {
   "cell_type": "code",
   "execution_count": 13,
   "metadata": {},
   "outputs": [],
   "source": [
    "image_extensions = {\".jpg\", \".jpeg\", \".png\", \".bmp\", \".gif\", \".tiff\"}\n",
    "\n",
    "def list_images(folder_path):\n",
    "    files = sorted([\n",
    "        os.path.join(folder_path, f)\n",
    "        for f in os.listdir(folder_path)\n",
    "        if os.path.isfile(os.path.join(folder_path, f)) and os.path.splitext(f)[1].lower() in image_extensions\n",
    "    ])\n",
    "    return files\n",
    "\n",
    "\n",
    "total_images = list_images(nhaze)\n",
    "# clear_images = list_images(clear_folder)"
   ]
  },
  {
   "cell_type": "code",
   "execution_count": 14,
   "metadata": {},
   "outputs": [],
   "source": [
    "def calculate_ssim(ground_img, output_img):\n",
    "    \n",
    "    ground_img = (ground_img - ground_img.min()) / (ground_img.max() - ground_img.min())\n",
    "    output_img = (output_img - output_img.min()) / (output_img.max() - output_img.min())\n",
    "\n",
    "    if ground_img.shape != output_img.shape:\n",
    "        output_img = cv2.resize(output_img, (ground_img.shape[1], ground_img.shape[0]))\n",
    "    min_dim = min(ground_img.shape[:2])\n",
    "    win_size = 3 \n",
    "\n",
    "    if win_size % 2 == 0:\n",
    "        win_size -= 1\n",
    "\n",
    "    ssim_value, _ = ssim(ground_img, output_img, full=True, data_range=1.0, win_size=3)\n",
    "    return ssim_value"
   ]
  },
  {
   "cell_type": "code",
   "execution_count": 15,
   "metadata": {},
   "outputs": [],
   "source": [
    "hazy_images=[]\n",
    "clear_images=[]\n",
    "for i in range(len(total_images)):\n",
    "    if(i%2==0):\n",
    "        clear_images.append(total_images[i])\n",
    "    else:\n",
    "        hazy_images.append(total_images[i])"
   ]
  },
  {
   "cell_type": "code",
   "execution_count": 22,
   "metadata": {},
   "outputs": [],
   "source": [
    "nh_psnr,nh_ssim=function_dehaze(hazy_images,clear_images,'Haze')"
   ]
  },
  {
   "cell_type": "code",
   "execution_count": 18,
   "metadata": {},
   "outputs": [
    {
     "name": "stdout",
     "output_type": "stream",
     "text": [
      "9.775522856999487   0.2787305084815233\n"
     ]
    }
   ],
   "source": [
    "print(nh_psnr/55,' ',nh_ssim/55)"
   ]
  },
  {
   "cell_type": "markdown",
   "metadata": {},
   "source": [
    "## sots-indoor\n"
   ]
  },
  {
   "cell_type": "code",
   "execution_count": 29,
   "metadata": {},
   "outputs": [],
   "source": [
    "clear_folder = \"../Data/SOTS/indoor/gt\"  \n",
    "hazy_folder =  \"../Data/SOTS/indoor/hazy\"  "
   ]
  },
  {
   "cell_type": "code",
   "execution_count": 30,
   "metadata": {},
   "outputs": [],
   "source": [
    "clear_images=list_images(clear_folder)"
   ]
  },
  {
   "cell_type": "code",
   "execution_count": 33,
   "metadata": {},
   "outputs": [],
   "source": [
    "total_hazy_images=list_images(hazy_folder)"
   ]
  },
  {
   "cell_type": "code",
   "execution_count": 38,
   "metadata": {},
   "outputs": [],
   "source": [
    "hazy_images=[]\n",
    "for i in range(len(total_hazy_images)):\n",
    "    if i%5==0 and i%10!=0:\n",
    "        hazy_images.append(total_hazy_images[i])"
   ]
  },
  {
   "cell_type": "code",
   "execution_count": 40,
   "metadata": {},
   "outputs": [],
   "source": [
    "soti_psnr,soti_ssim=function_dehaze(hazy_images,clear_images,'sots_indoor')"
   ]
  }
 ],
 "metadata": {
  "kernelspec": {
   "display_name": "base",
   "language": "python",
   "name": "python3"
  },
  "language_info": {
   "codemirror_mode": {
    "name": "ipython",
    "version": 3
   },
   "file_extension": ".py",
   "mimetype": "text/x-python",
   "name": "python",
   "nbconvert_exporter": "python",
   "pygments_lexer": "ipython3",
   "version": "3.12.2"
  }
 },
 "nbformat": 4,
 "nbformat_minor": 2
}
